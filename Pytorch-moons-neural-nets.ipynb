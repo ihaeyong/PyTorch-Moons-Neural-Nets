{
 "cells": [
  {
   "cell_type": "code",
   "execution_count": 202,
   "metadata": {},
   "outputs": [],
   "source": [
    "import torch\n",
    "import numpy as np\n",
    "import matplotlib.pyplot as plt\n",
    "from sklearn import datasets\n",
    "plt.style.use('seaborn')\n",
    "%matplotlib inline"
   ]
  },
  {
   "cell_type": "code",
   "execution_count": 203,
   "metadata": {},
   "outputs": [],
   "source": [
    "X,y = datasets.make_moons(n_samples=200, shuffle=True, noise=0.2, random_state=1234)\n",
    "y = np.reshape(y, (len(y),1))"
   ]
  },
  {
   "cell_type": "code",
   "execution_count": 206,
   "metadata": {},
   "outputs": [],
   "source": [
    "input_size = 2 \n",
    "hidden_size = 3 # randomly chosen\n",
    "output_size = 1 # we want it to return a number that can be used to calculate the difference from the actual number"
   ]
  },
  {
   "cell_type": "code",
   "execution_count": 204,
   "metadata": {},
   "outputs": [],
   "source": [
    "class NeuralNetwork():\n",
    "    def __init__(self, input_size, hidden_size, output_size):\n",
    "        # weights\n",
    "        self.W1 = torch.randn(input_size, hidden_size, requires_grad=True)\n",
    "        self.W2 = torch.randn(hidden_size, hidden_size, requires_grad=True)\n",
    "        self.W3 = torch.randn(hidden_size, output_size, requires_grad=True)\n",
    "        \n",
    "        # Add bias\n",
    "        self.b1 = torch.randn(hidden_size, requires_grad=True)\n",
    "        self.b2 = torch.randn(hidden_size, requires_grad=True)\n",
    "        self.b3 = torch.randn(output_size, requires_grad=True)\n",
    "\n",
    "    def forward(self, inputs):\n",
    "        z1 = inputs.mm(self.W1).add(self.b1)\n",
    "        a1 = 1 / (1 + torch.exp(-z1))\n",
    "        z2 = a1.mm(self.W2).add(self.b2)\n",
    "        a2 = 1 / (1 + torch.exp(-z2))\n",
    "        z3 = a2.mm(self.W3).add(self.b3)\n",
    "        output = 1 / (1 + torch.exp(-z3))\n",
    "        return output"
   ]
  },
  {
   "cell_type": "code",
   "execution_count": 205,
   "metadata": {},
   "outputs": [],
   "source": [
    "epochs = 10000\n",
    "learning_rate = 0.005"
   ]
  },
  {
   "cell_type": "code",
   "execution_count": 207,
   "metadata": {},
   "outputs": [],
   "source": [
    "model = NeuralNetwork(input_size, hidden_size, output_size)"
   ]
  },
  {
   "cell_type": "code",
   "execution_count": 208,
   "metadata": {},
   "outputs": [],
   "source": [
    "inputs = torch.tensor(X, dtype=torch.float)\n",
    "labels = torch.tensor(y, dtype=torch.float)"
   ]
  },
  {
   "cell_type": "code",
   "execution_count": 209,
   "metadata": {},
   "outputs": [],
   "source": [
    "#store all the loss values\n",
    "losses = []"
   ]
  },
  {
   "cell_type": "code",
   "execution_count": 210,
   "metadata": {},
   "outputs": [
    {
     "name": "stdout",
     "output_type": "stream",
     "text": [
      "Final loss:  18.66617202758789\n"
     ]
    },
    {
     "data": {
      "text/plain": [
       "[<matplotlib.lines.Line2D at 0x1a1d7c7a58>]"
      ]
     },
     "execution_count": 210,
     "metadata": {},
     "output_type": "execute_result"
    },
    {
     "data": {
      "image/png": "[encoded data removed]",
      "text/plain": [
       "<Figure size 432x288 with 1 Axes>"
      ]
     },
     "metadata": {},
     "output_type": "display_data"
    }
   ],
   "source": [
    "for epoch in range(epochs):\n",
    "\n",
    "    # forward function\n",
    "    output = model.forward(inputs)\n",
    "\n",
    "    #BinaryCrossEntropy formula\n",
    "    loss = -((labels * torch.log(output)) + (1 - labels) * torch.log(1 - output)).sum()\n",
    "\n",
    "    #Log the log so we can plot it later\n",
    "    losses.append(loss.item())\n",
    "\n",
    "    #calculate the gradients of the weights wrt to loss\n",
    "    loss.backward()\n",
    "\n",
    "    #adjust the weights based on the previous calculated gradients\n",
    "    model.W1.data -= learning_rate * model.W1.grad\n",
    "    model.W2.data -= learning_rate * model.W2.grad\n",
    "    model.W3.data -= learning_rate * model.W3.grad\n",
    "    model.b1.data -= learning_rate * model.b1.grad\n",
    "    model.b2.data -= learning_rate * model.b2.grad\n",
    "    model.b3.data -= learning_rate * model.b3.grad\n",
    "\n",
    "    #clear the gradients so they wont accumulate\n",
    "    model.W1.grad.zero_()\n",
    "    model.W2.grad.zero_()\n",
    "    model.W3.grad.zero_()\n",
    "    model.b1.grad.zero_()\n",
    "    model.b2.grad.zero_()\n",
    "    model.b3.grad.zero_()\n",
    "\n",
    "print(\"Final loss: \", losses[-1])\n",
    "plt.plot(losses)"
   ]
  }
 ],
 "metadata": {
  "kernelspec": {
   "display_name": "Python [conda env:Pytorch]",
   "language": "python",
   "name": "conda-env-Pytorch-py"
  },
  "language_info": {
   "codemirror_mode": {
    "name": "ipython",
    "version": 3
   },
   "file_extension": ".py",
   "mimetype": "text/x-python",
   "name": "python",
   "nbconvert_exporter": "python",
   "pygments_lexer": "ipython3",
   "version": "3.6.5"
  }
 },
 "nbformat": 4,
 "nbformat_minor": 2
}
